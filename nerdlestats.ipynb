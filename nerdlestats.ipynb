{
 "cells": [
  {
   "cell_type": "code",
   "execution_count": 6,
   "metadata": {},
   "outputs": [],
   "source": [
    "import numpy as np\n",
    "import pandas as pd\n",
    "from scipy import stats\n",
    "\n",
    "\n",
    "myPath = \"/Users/david/Dropbox/Computing/Linux/Python/python_larder/\"\n",
    "myFile = \"nerdle.py\"\n",
    "myCSV_File = \"nerdle.csv\"\n"
   ]
  },
  {
   "cell_type": "code",
   "execution_count": null,
   "metadata": {},
   "outputs": [],
   "source": [
    "rng = np.random.default_rng()\n",
    "seq= rng.normal(size=50)\n",
    "print(seq)\n",
    "seq2 = rng.normal(loc=0.5, size=50)\n",
    "print(seq2)"
   ]
  },
  {
   "cell_type": "code",
   "execution_count": null,
   "metadata": {},
   "outputs": [],
   "source": [
    "rng = np.random.default_rng()\n",
    "res=stats.anderson_ksamp([rng.normal(size=50),rng.normal(loc=0.5, size=30)])\n",
    "print(res)\n",
    "print(res.statistic, res.significance_level)\n",
    "print(rng.normal(size=50))"
   ]
  },
  {
   "cell_type": "code",
   "execution_count": 8,
   "metadata": {},
   "outputs": [
    {
     "name": "stdout",
     "output_type": "stream",
     "text": [
      "   Bin  Dave  Maggie  Toby  Sally  Rob H  Sue  Fabian  Martin  Paul  Rob V  \\\n",
      "0    1     0       0     1      1      0    0       0       2     0      0   \n",
      "1    2    26       4    35     16     31   14      14      18     4      3   \n",
      "2    3   140      12   129    116    153   91     131     115    37     37   \n",
      "3    4   223      17   209    167    218  170     175     169    97     40   \n",
      "4    5   109      10   143    113    101  114     108      84    84     17   \n",
      "5    6    27       5    37     45     28   43      33      37    35     10   \n",
      "6    7    11       0     4     10      6   20      13       0    10      1   \n",
      "\n",
      "   Hugo  Tom  Ben  \n",
      "0     1    0    0  \n",
      "1    16    6    0  \n",
      "2    88   39    0  \n",
      "3   155   77    0  \n",
      "4    76   51    0  \n",
      "5    21   13    1  \n",
      "6     6    3    0  \n",
      "['Dave', 'Maggie', 'Toby', 'Sally', 'Rob H', 'Sue', 'Fabian', 'Martin', 'Paul', 'Rob V', 'Hugo', 'Tom', 'Ben']\n"
     ]
    }
   ],
   "source": [
    "data = pd.read_csv(myPath + myCSV_File, sep=\",\")\n",
    "print(data)\n",
    "list_names = data.columns.values.tolist()\n",
    "if \"Bin\" in list_names:\n",
    "    try:\n",
    "        list_names.remove(\"Bin\")\n",
    "    except:\n",
    "        pass\n",
    "\n",
    "print(list_names)    "
   ]
  },
  {
   "cell_type": "code",
   "execution_count": 12,
   "metadata": {},
   "outputs": [],
   "source": [
    "def make_raw_data(data, name):\n",
    "    ### create raw data from frequency distibution ###\n",
    "    raw_data = np.repeat(data[\"Bin\"], data[name]).to_numpy()\n",
    "\n",
    "    return raw_data\n"
   ]
  },
  {
   "cell_type": "code",
   "execution_count": null,
   "metadata": {},
   "outputs": [],
   "source": [
    "raw_dict = dict.fromkeys(list_names, [])\n",
    "for name in list_names:\n",
    "    raw_data = make_raw_data(data, name)\n",
    "    raw_dict[name]=raw_data\n",
    "print(raw_dict)"
   ]
  },
  {
   "cell_type": "code",
   "execution_count": null,
   "metadata": {},
   "outputs": [],
   "source": [
    "raw_df = pd.concat([pd.DataFrame(v, columns=[k]) for k, v in raw_dict.items()], axis=1)\n",
    "print(raw_df)"
   ]
  },
  {
   "cell_type": "code",
   "execution_count": null,
   "metadata": {},
   "outputs": [],
   "source": [
    "from fpdf import FPDF\n",
    "\n",
    "WIDTH = 210\n",
    "HEIGHT = 297\n",
    "SIZE = 100\n",
    "\n",
    "my_path = \"/Users/david/Dropbox/Computing/Linux/Python/python_larder/\"\n",
    "\n",
    "day = datetime.today().strftime(\"%d/%m/%y\")\n",
    "\n",
    "pdf = FPDF()\n",
    "pdf.add_page()\n",
    "pdf.set_font(\"Arial\", \"B\", 16)\n",
    "pdf.set_text_color(68, 118, 171)\n",
    "pdf.set_draw_color(68, 118, 171)\n",
    "\n",
    "# ADD LOGO\n",
    "\n",
    "\n",
    "# ADD TITLE\n",
    "pdf.cell(\n",
    "    0,\n",
    "    15,\n",
    "    \"Nerdlestats Report:   \" + day,\n",
    "    border=0,\n",
    "    ln=1,\n",
    "    align=\"C\",\n",
    "    fill=False,\n",
    ")\n",
    "\n",
    "pdf.set_font(\"Arial\", \"\", 12)\n",
    "pdf.set_text_color(68, 118, 171)\n",
    "\n",
    "\n",
    "\n",
    "\n",
    "# OUTPUT PDF\n",
    "pdf.output(my_path + \"nerdlestats_report.pdf\", \"F\")\n",
    "\n",
    "print(\"All done\")\n"
   ]
  },
  {
   "cell_type": "code",
   "execution_count": 2,
   "metadata": {},
   "outputs": [],
   "source": [
    "from reportlab.pdfgen.canvas import Canvas"
   ]
  },
  {
   "cell_type": "code",
   "execution_count": 5,
   "metadata": {},
   "outputs": [],
   "source": [
    "canvas = Canvas('nerdlestats.pdf')\n",
    "canvas.drawString(72, 72, \"NerdleStats\")\n",
    "\n",
    "canvas.save()\n"
   ]
  },
  {
   "cell_type": "code",
   "execution_count": 9,
   "metadata": {},
   "outputs": [],
   "source": [
    "import pandas as pd\n",
    "import numpy as np\n",
    "import matplotlib.pyplot as plt\n",
    "from matplotlib.backends.backend_pdf import PdfPages"
   ]
  },
  {
   "cell_type": "code",
   "execution_count": 10,
   "metadata": {},
   "outputs": [
    {
     "data": {
      "image/png": "[encoded data removed]",
      "text/plain": [
       "<Figure size 1200x400 with 1 Axes>"
      ]
     },
     "metadata": {},
     "output_type": "display_data"
    }
   ],
   "source": [
    "fig, ax =plt.subplots(figsize=(12,4))\n",
    "ax.axis('tight')\n",
    "ax.axis('off')\n",
    "the_table = ax.table(cellText=data.values,colLabels=data.columns,loc='center')\n",
    "\n",
    "\n",
    "pp = PdfPages(\"nerdlestats.pdf\")\n",
    "pp.savefig(fig, bbox_inches='tight')\n",
    "pp.close()"
   ]
  }
 ],
 "metadata": {
  "kernelspec": {
   "display_name": "base",
   "language": "python",
   "name": "python3"
  },
  "language_info": {
   "codemirror_mode": {
    "name": "ipython",
    "version": 3
   },
   "file_extension": ".py",
   "mimetype": "text/x-python",
   "name": "python",
   "nbconvert_exporter": "python",
   "pygments_lexer": "ipython3",
   "version": "3.11.0"
  },
  "orig_nbformat": 4
 },
 "nbformat": 4,
 "nbformat_minor": 2
}
