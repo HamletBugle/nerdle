{
 "cells": [
  {
   "cell_type": "code",
   "execution_count": null,
   "metadata": {},
   "outputs": [],
   "source": [
    "import numpy as np\n",
    "import pandas as pd\n",
    "from scipy import stats\n",
    "\n",
    "\n",
    "myPath = \"/Users/david/Dropbox/Computing/Linux/Python/python_larder/\"\n",
    "myFile = \"nerdle.py\"\n",
    "myCSV_File = \"nerdle.csv\"\n",
    "\n",
    "\n",
    "data = pd.read_csv(myPath + myCSV_File, sep=\",\")\n",
    "print(data)\n",
    "list_names = data.columns.values.tolist()\n",
    "if \"Bin\" in list_names:\n",
    "    try:\n",
    "        list_names.remove(\"Bin\")\n",
    "    except:\n",
    "        pass\n",
    "\n",
    "print(list_names)    "
   ]
  },
  {
   "cell_type": "code",
   "execution_count": null,
   "metadata": {},
   "outputs": [],
   "source": [
    "# create totals\n",
    "data_totals = data.drop(['Bin'],axis=1)\n",
    "data_totals['total'] = data_totals.sum(axis=1,numeric_only=True)\n",
    "name1 = \"DW\"\n",
    "data_totals['total'] = data_totals['total']-data_totals[name1]\n",
    "print(data_totals)\n",
    "raw_data = np.repeat(data[\"Bin\"], data_totals['total']).to_numpy()\n",
    "print(raw_data)"
   ]
  }
 ],
 "metadata": {
  "kernelspec": {
   "display_name": "Python 3",
   "language": "python",
   "name": "python3"
  },
  "language_info": {
   "codemirror_mode": {
    "name": "ipython",
    "version": 3
   },
   "file_extension": ".py",
   "mimetype": "text/x-python",
   "name": "python",
   "nbconvert_exporter": "python",
   "pygments_lexer": "ipython3",
   "version": "3.8.16"
  },
  "orig_nbformat": 4
 },
 "nbformat": 4,
 "nbformat_minor": 2
}
